{
 "cells": [
  {
   "cell_type": "code",
   "execution_count": 1,
   "metadata": {
    "execution": {
     "iopub.execute_input": "2025-01-24T15:52:38.204378Z",
     "iopub.status.busy": "2025-01-24T15:52:38.203197Z",
     "iopub.status.idle": "2025-01-24T15:52:42.136786Z",
     "shell.execute_reply": "2025-01-24T15:52:42.135823Z",
     "shell.execute_reply.started": "2025-01-24T15:52:38.204339Z"
    },
    "trusted": true
   },
   "outputs": [],
   "source": [
    "import numpy as np\n",
    "import matplotlib.pyplot as plt\n",
    "import torch\n",
    "import ast\n",
    "import pandas as pd\n",
    "from advanced_preprocessing import read_seperate_csv_from_zip, valid_velo_data_cropped"
   ]
  },
  {
   "cell_type": "code",
   "execution_count": 2,
   "metadata": {
    "execution": {
     "iopub.execute_input": "2025-01-24T15:52:42.138946Z",
     "iopub.status.busy": "2025-01-24T15:52:42.138462Z",
     "iopub.status.idle": "2025-01-24T15:52:42.162474Z",
     "shell.execute_reply": "2025-01-24T15:52:42.161139Z",
     "shell.execute_reply.started": "2025-01-24T15:52:42.138909Z"
    },
    "trusted": true
   },
   "outputs": [],
   "source": [
    "# Inititialize the time vector\n",
    "fs = 20833.333333333332  # Sampling frequency in kHz\n",
    "n = 4000 # Number of time-steps in the signal\n",
    "T = n/fs # Total time duration\n",
    "\n",
    "t = torch.linspace(0, T, n)  # Time vector"
   ]
  },
  {
   "cell_type": "code",
   "execution_count": 3,
   "metadata": {
    "execution": {
     "iopub.execute_input": "2025-01-24T15:52:42.170620Z",
     "iopub.status.busy": "2025-01-24T15:52:42.170348Z",
     "iopub.status.idle": "2025-01-24T15:52:42.185109Z",
     "shell.execute_reply": "2025-01-24T15:52:42.184058Z",
     "shell.execute_reply.started": "2025-01-24T15:52:42.170597Z"
    },
    "trusted": true
   },
   "outputs": [],
   "source": [
    "def frame_waves(data, length=500, labels=None, n_crops=1, jump=0):\n",
    "    \"\"\"\n",
    "    Function that crops to the waves. Only works for data that is only v_out or v_in signals (mode).\n",
    "\n",
    "    Args:\n",
    "        data: numpy array or list with the voltage data of the bubbles\n",
    "        labels: labels of the data. If n_crops=2, you must put in labels!\n",
    "        length: amount of timesteps of the cropped part. Standard value is set at 500.\n",
    "        n_crops: can be 1 or 2. For 1, makes one zoomed-in sample per bubble.\n",
    "                For 2, picks two parts of the wave signal (so final output doubles in size)\n",
    "        jump: Recommended value is an integer between 0-500 (for small lengths). \n",
    "                Gives the amount of steps away from the frame edge \n",
    "                (to obtain clearer waves, at the cost of possibly overshooting the bubble time frame)\n",
    "\n",
    "    Output:\n",
    "        cropped_data: Numpy array with the cropped voltages, dimension [#samples, length]\n",
    "        labels: labels put in and duplicated to match the cropped_data. If n_crop=1,\n",
    "        do not save the labels! Instead call the function using: cropped_data, _ = frame_waves(...)\n",
    "        \n",
    "    \"\"\"\n",
    "    if n_crops not in [1, 2]:\n",
    "        raise ValueError(\"n_crops should be either 1 or 2\")\n",
    "    \n",
    "    if not isinstance(data, np.ndarray):\n",
    "        data = np.array(data)\n",
    "\n",
    "    if n_crops == 1:\n",
    "        cropped_data = np.array([sample[jump:(jump+length)] for sample in data])\n",
    "    if n_crops == 2:\n",
    "        cropped_data = np.array([sample[jump:(jump+length)] for sample in data])\n",
    "        cropped_data2 = np.array([sample[(jump+length//2):(jump+length + length//2)] for sample in data])\n",
    "        cropped_data = np.concatenate([cropped_data, cropped_data2])\n",
    "        labels = np.concatenate([labels, labels])\n",
    "    \n",
    "    return cropped_data, labels"
   ]
  },
  {
   "cell_type": "code",
   "execution_count": 4,
   "metadata": {
    "execution": {
     "iopub.execute_input": "2025-01-24T15:52:42.207530Z",
     "iopub.status.busy": "2025-01-24T15:52:42.207143Z",
     "iopub.status.idle": "2025-01-24T15:53:41.771128Z",
     "shell.execute_reply": "2025-01-24T15:53:41.770074Z",
     "shell.execute_reply.started": "2025-01-24T15:52:42.207494Z"
    },
    "trusted": true
   },
   "outputs": [],
   "source": [
    "df = read_seperate_csv_from_zip(\"All_bubbles_2.2.zip\")\n",
    "#df = read_seperate_csv_from_zip(\"/kaggle/input/capstone2-2/60_2024-11-08T150426_bubbles.csv\")"
   ]
  },
  {
   "cell_type": "code",
   "execution_count": 5,
   "metadata": {
    "execution": {
     "iopub.execute_input": "2025-01-24T15:53:41.774153Z",
     "iopub.status.busy": "2025-01-24T15:53:41.773857Z",
     "iopub.status.idle": "2025-01-24T15:53:41.789177Z",
     "shell.execute_reply": "2025-01-24T15:53:41.788058Z",
     "shell.execute_reply.started": "2025-01-24T15:53:41.774125Z"
    },
    "trusted": true
   },
   "outputs": [
    {
     "name": "stdout",
     "output_type": "stream",
     "text": [
      "            bubble_idx E_idx L_idx  VeloOut  \\\n",
      "0  0_2024-11-08T150426    E0    -1     -1.0   \n",
      "1  1_2024-11-08T150426    E1    -1     -1.0   \n",
      "2  2_2024-11-08T150426    E2    -1     -1.0   \n",
      "3  3_2024-11-08T150426    E3    -1     -1.0   \n",
      "4  4_2024-11-08T150426    E4    -1     -1.0   \n",
      "\n",
      "                                          VoltageOut  FlowRate     Frequency  \n",
      "0  [0.6185491681098938, 0.6185491681098938, 0.622...        60  2.083333e+07  \n",
      "1  [0.5984679460525513, 0.5974303483963013, 0.601...        60  2.083333e+07  \n",
      "2  [0.5890072584152222, 0.574175238609314, 0.5826...        60  2.083333e+07  \n",
      "3  [0.5784478187561035, 0.5858333110809326, 0.595...        60  2.083333e+07  \n",
      "4  [0.5942564010620117, 0.6048158407211304, 0.580...        60  2.083333e+07  \n"
     ]
    }
   ],
   "source": [
    "print(df.head())"
   ]
  },
  {
   "cell_type": "code",
   "execution_count": null,
   "metadata": {
    "execution": {
     "iopub.execute_input": "2025-01-24T15:58:47.644609Z",
     "iopub.status.busy": "2025-01-24T15:58:47.644216Z",
     "iopub.status.idle": "2025-01-24T15:58:47.985622Z",
     "shell.execute_reply": "2025-01-24T15:58:47.984613Z",
     "shell.execute_reply.started": "2025-01-24T15:58:47.644580Z"
    },
    "trusted": true
   },
   "outputs": [
    {
     "ename": "KeyError",
     "evalue": "'voltage_exit'",
     "output_type": "error",
     "traceback": [
      "\u001b[1;31m---------------------------------------------------------------------------\u001b[0m",
      "\u001b[1;31mKeyError\u001b[0m                                  Traceback (most recent call last)",
      "File \u001b[1;32m~\\AppData\\Local\\Packages\\PythonSoftwareFoundation.Python.3.10_qbz5n2kfra8p0\\LocalCache\\local-packages\\Python310\\site-packages\\pandas\\core\\indexes\\base.py:3805\u001b[0m, in \u001b[0;36mIndex.get_loc\u001b[1;34m(self, key)\u001b[0m\n\u001b[0;32m   3804\u001b[0m \u001b[38;5;28;01mtry\u001b[39;00m:\n\u001b[1;32m-> 3805\u001b[0m     \u001b[38;5;28;01mreturn\u001b[39;00m \u001b[38;5;28;43mself\u001b[39;49m\u001b[38;5;241;43m.\u001b[39;49m\u001b[43m_engine\u001b[49m\u001b[38;5;241;43m.\u001b[39;49m\u001b[43mget_loc\u001b[49m\u001b[43m(\u001b[49m\u001b[43mcasted_key\u001b[49m\u001b[43m)\u001b[49m\n\u001b[0;32m   3806\u001b[0m \u001b[38;5;28;01mexcept\u001b[39;00m \u001b[38;5;167;01mKeyError\u001b[39;00m \u001b[38;5;28;01mas\u001b[39;00m err:\n",
      "File \u001b[1;32mindex.pyx:167\u001b[0m, in \u001b[0;36mpandas._libs.index.IndexEngine.get_loc\u001b[1;34m()\u001b[0m\n",
      "File \u001b[1;32mindex.pyx:196\u001b[0m, in \u001b[0;36mpandas._libs.index.IndexEngine.get_loc\u001b[1;34m()\u001b[0m\n",
      "File \u001b[1;32mpandas\\\\_libs\\\\hashtable_class_helper.pxi:7081\u001b[0m, in \u001b[0;36mpandas._libs.hashtable.PyObjectHashTable.get_item\u001b[1;34m()\u001b[0m\n",
      "File \u001b[1;32mpandas\\\\_libs\\\\hashtable_class_helper.pxi:7089\u001b[0m, in \u001b[0;36mpandas._libs.hashtable.PyObjectHashTable.get_item\u001b[1;34m()\u001b[0m\n",
      "\u001b[1;31mKeyError\u001b[0m: 'voltage_exit'",
      "\nThe above exception was the direct cause of the following exception:\n",
      "\u001b[1;31mKeyError\u001b[0m                                  Traceback (most recent call last)",
      "Cell \u001b[1;32mIn[6], line 1\u001b[0m\n\u001b[1;32m----> 1\u001b[0m X, y, idx \u001b[38;5;241m=\u001b[39m \u001b[43mvalid_velo_data_cropped\u001b[49m\u001b[43m(\u001b[49m\u001b[43mdf\u001b[49m\u001b[43m,\u001b[49m\u001b[43m \u001b[49m\u001b[43mlength\u001b[49m\u001b[38;5;241;43m=\u001b[39;49m\u001b[43mn\u001b[49m\u001b[43m,\u001b[49m\u001b[43m \u001b[49m\u001b[43mbubble_idx\u001b[49m\u001b[43m \u001b[49m\u001b[38;5;241;43m=\u001b[39;49m\u001b[43m \u001b[49m\u001b[38;5;28;43;01mTrue\u001b[39;49;00m\u001b[43m)\u001b[49m\n\u001b[0;32m      2\u001b[0m X \u001b[38;5;241m=\u001b[39m torch\u001b[38;5;241m.\u001b[39mTensor(X)\n\u001b[0;32m      3\u001b[0m y \u001b[38;5;241m=\u001b[39m torch\u001b[38;5;241m.\u001b[39mTensor(y) \n",
      "File \u001b[1;32mc:\\Users\\janpa\\OneDrive\\Documents\\GitHub\\CapstoneAI\\advanced_preprocessing.py:161\u001b[0m, in \u001b[0;36mvalid_velo_data_cropped\u001b[1;34m(data, length, jump, bubble_idx)\u001b[0m\n\u001b[0;32m    146\u001b[0m \u001b[38;5;250m\u001b[39m\u001b[38;5;124;03m\"\"\"\u001b[39;00m\n\u001b[0;32m    147\u001b[0m \u001b[38;5;124;03mExtracts the data with valid velocities and combines it with the frame_waves function. \u001b[39;00m\n\u001b[0;32m    148\u001b[0m \u001b[38;5;124;03mOnly works for pandas DataFrames right now.\u001b[39;00m\n\u001b[1;32m   (...)\u001b[0m\n\u001b[0;32m    158\u001b[0m \u001b[38;5;124;03m    idx: Numpy array with bubble indices (if bubble_idx=True)\u001b[39;00m\n\u001b[0;32m    159\u001b[0m \u001b[38;5;124;03m\"\"\"\u001b[39;00m\n\u001b[0;32m    160\u001b[0m valid \u001b[38;5;241m=\u001b[39m data[data[\u001b[38;5;124m\"\u001b[39m\u001b[38;5;124mVeloOut\u001b[39m\u001b[38;5;124m\"\u001b[39m] \u001b[38;5;241m!=\u001b[39m \u001b[38;5;241m-\u001b[39m\u001b[38;5;241m1\u001b[39m]\n\u001b[1;32m--> 161\u001b[0m x \u001b[38;5;241m=\u001b[39m frame_waves(\u001b[43mvalid\u001b[49m\u001b[43m[\u001b[49m\u001b[38;5;124;43m\"\u001b[39;49m\u001b[38;5;124;43mvoltage_exit\u001b[39;49m\u001b[38;5;124;43m\"\u001b[39;49m\u001b[43m]\u001b[49m\u001b[38;5;241m.\u001b[39mtolist(), length\u001b[38;5;241m=\u001b[39mlength, jump\u001b[38;5;241m=\u001b[39mjump)\n\u001b[0;32m    162\u001b[0m y \u001b[38;5;241m=\u001b[39m valid[\u001b[38;5;124m\"\u001b[39m\u001b[38;5;124mVeloOut\u001b[39m\u001b[38;5;124m\"\u001b[39m]\u001b[38;5;241m.\u001b[39mastype(\u001b[38;5;28mfloat\u001b[39m)\u001b[38;5;241m.\u001b[39mtolist()\n\u001b[0;32m    164\u001b[0m \u001b[38;5;28;01mif\u001b[39;00m bubble_idx:\n\u001b[0;32m    165\u001b[0m     \u001b[38;5;66;03m# if in a later implementation the acquisition frequency is variable within a dataset/dataframe\u001b[39;00m\n\u001b[0;32m    166\u001b[0m     \u001b[38;5;66;03m# this functionality can be useful\u001b[39;00m\n",
      "File \u001b[1;32m~\\AppData\\Local\\Packages\\PythonSoftwareFoundation.Python.3.10_qbz5n2kfra8p0\\LocalCache\\local-packages\\Python310\\site-packages\\pandas\\core\\frame.py:4102\u001b[0m, in \u001b[0;36mDataFrame.__getitem__\u001b[1;34m(self, key)\u001b[0m\n\u001b[0;32m   4100\u001b[0m \u001b[38;5;28;01mif\u001b[39;00m \u001b[38;5;28mself\u001b[39m\u001b[38;5;241m.\u001b[39mcolumns\u001b[38;5;241m.\u001b[39mnlevels \u001b[38;5;241m>\u001b[39m \u001b[38;5;241m1\u001b[39m:\n\u001b[0;32m   4101\u001b[0m     \u001b[38;5;28;01mreturn\u001b[39;00m \u001b[38;5;28mself\u001b[39m\u001b[38;5;241m.\u001b[39m_getitem_multilevel(key)\n\u001b[1;32m-> 4102\u001b[0m indexer \u001b[38;5;241m=\u001b[39m \u001b[38;5;28;43mself\u001b[39;49m\u001b[38;5;241;43m.\u001b[39;49m\u001b[43mcolumns\u001b[49m\u001b[38;5;241;43m.\u001b[39;49m\u001b[43mget_loc\u001b[49m\u001b[43m(\u001b[49m\u001b[43mkey\u001b[49m\u001b[43m)\u001b[49m\n\u001b[0;32m   4103\u001b[0m \u001b[38;5;28;01mif\u001b[39;00m is_integer(indexer):\n\u001b[0;32m   4104\u001b[0m     indexer \u001b[38;5;241m=\u001b[39m [indexer]\n",
      "File \u001b[1;32m~\\AppData\\Local\\Packages\\PythonSoftwareFoundation.Python.3.10_qbz5n2kfra8p0\\LocalCache\\local-packages\\Python310\\site-packages\\pandas\\core\\indexes\\base.py:3812\u001b[0m, in \u001b[0;36mIndex.get_loc\u001b[1;34m(self, key)\u001b[0m\n\u001b[0;32m   3807\u001b[0m     \u001b[38;5;28;01mif\u001b[39;00m \u001b[38;5;28misinstance\u001b[39m(casted_key, \u001b[38;5;28mslice\u001b[39m) \u001b[38;5;129;01mor\u001b[39;00m (\n\u001b[0;32m   3808\u001b[0m         \u001b[38;5;28misinstance\u001b[39m(casted_key, abc\u001b[38;5;241m.\u001b[39mIterable)\n\u001b[0;32m   3809\u001b[0m         \u001b[38;5;129;01mand\u001b[39;00m \u001b[38;5;28many\u001b[39m(\u001b[38;5;28misinstance\u001b[39m(x, \u001b[38;5;28mslice\u001b[39m) \u001b[38;5;28;01mfor\u001b[39;00m x \u001b[38;5;129;01min\u001b[39;00m casted_key)\n\u001b[0;32m   3810\u001b[0m     ):\n\u001b[0;32m   3811\u001b[0m         \u001b[38;5;28;01mraise\u001b[39;00m InvalidIndexError(key)\n\u001b[1;32m-> 3812\u001b[0m     \u001b[38;5;28;01mraise\u001b[39;00m \u001b[38;5;167;01mKeyError\u001b[39;00m(key) \u001b[38;5;28;01mfrom\u001b[39;00m \u001b[38;5;21;01merr\u001b[39;00m\n\u001b[0;32m   3813\u001b[0m \u001b[38;5;28;01mexcept\u001b[39;00m \u001b[38;5;167;01mTypeError\u001b[39;00m:\n\u001b[0;32m   3814\u001b[0m     \u001b[38;5;66;03m# If we have a listlike key, _check_indexing_error will raise\u001b[39;00m\n\u001b[0;32m   3815\u001b[0m     \u001b[38;5;66;03m#  InvalidIndexError. Otherwise we fall through and re-raise\u001b[39;00m\n\u001b[0;32m   3816\u001b[0m     \u001b[38;5;66;03m#  the TypeError.\u001b[39;00m\n\u001b[0;32m   3817\u001b[0m     \u001b[38;5;28mself\u001b[39m\u001b[38;5;241m.\u001b[39m_check_indexing_error(key)\n",
      "\u001b[1;31mKeyError\u001b[0m: 'voltage_exit'"
     ]
    }
   ],
   "source": [
    "X, y, idx = valid_velo_data_cropped(df, length=n, bubble_idx = True)\n",
    "X = torch.Tensor(X)\n",
    "y = torch.Tensor(y)"
   ]
  },
  {
   "cell_type": "code",
   "execution_count": 10,
   "metadata": {
    "execution": {
     "iopub.execute_input": "2025-01-24T15:53:42.183296Z",
     "iopub.status.busy": "2025-01-24T15:53:42.182973Z",
     "iopub.status.idle": "2025-01-24T15:53:42.188010Z",
     "shell.execute_reply": "2025-01-24T15:53:42.187051Z",
     "shell.execute_reply.started": "2025-01-24T15:53:42.183261Z"
    },
    "trusted": true
   },
   "outputs": [],
   "source": [
    "def lowpass_filter(signal, fs, f_cutoff):\n",
    "    fft_result = np.fft.fft(signal)\n",
    "    frequencies = np.fft.fftfreq(len(fft_result), d=1/fs)\n",
    "    fft_result[np.abs(frequencies) > f_cutoff] = 0\n",
    "    return np.fft.ifft(fft_result)"
   ]
  },
  {
   "cell_type": "code",
   "execution_count": 11,
   "metadata": {
    "execution": {
     "iopub.execute_input": "2025-01-24T15:53:42.189180Z",
     "iopub.status.busy": "2025-01-24T15:53:42.188927Z",
     "iopub.status.idle": "2025-01-24T15:53:42.207514Z",
     "shell.execute_reply": "2025-01-24T15:53:42.206386Z",
     "shell.execute_reply.started": "2025-01-24T15:53:42.189157Z"
    },
    "trusted": true
   },
   "outputs": [],
   "source": [
    "def transform_signal(signal: torch.Tensor, fs: float) -> list[torch.Tensor]:\n",
    "    '''\n",
    "    input:  signal (torch.Tensor) - the signal to be transformed\n",
    "            fs (float) - the sampling frequency of the signal\n",
    "            \n",
    "    output: freq_out (torch.Tensor) - the frequency domain of the signal \n",
    "                    shape: [n//2]\n",
    "            fft_out (torch.Tensor) - the fourier transform of the signal\n",
    "                    shape: [#samples in, n//2]\n",
    "    '''\n",
    "    n = 4000\n",
    "\n",
    "    if not isinstance(signal, torch.Tensor):\n",
    "        raise TypeError(\"Input must be a PyTorch tensor.\")\n",
    "\n",
    "    if signal.dim() == 1 and signal.shape == torch.Size([n]):\n",
    "        print(f'The input signal of shape {list(signal.shape)} was converted into shape [1 , {n}] for compatibility with the rest of the function. \\nIf the purpose was to input only 1 sample, the output should be correct.\\n')\n",
    "        signal = signal.unsqueeze(0)\n",
    "        \n",
    "    \n",
    "    # Ensure the tensor has at least 2 dimensions\n",
    "    if signal.dim() != 2:\n",
    "        raise ValueError(f\"Input tensor must have 2 dimensions, but got {signal.dim()}.\")\n",
    "    \n",
    "    # Validate the shape: second dimension must be n\n",
    "    if signal.size(1) != n:\n",
    "        raise ValueError(f\"Input must have shape [*, {n}], but got {signal.size()}.\")\n",
    "\n",
    "    \n",
    "    freq = torch.fft.rfftfreq(n, d=1/fs)\n",
    "    fft = torch.fft.rfft(signal, axis=1)\n",
    "\n",
    "    freq_out = freq[1: n+1]\n",
    "    fft_out = torch.abs(fft)[:,1:n+1]\n",
    "    \n",
    "    return freq_out, fft_out\n"
   ]
  },
  {
   "cell_type": "code",
   "execution_count": 12,
   "metadata": {
    "execution": {
     "iopub.execute_input": "2025-01-24T15:53:42.208804Z",
     "iopub.status.busy": "2025-01-24T15:53:42.208484Z",
     "iopub.status.idle": "2025-01-24T15:53:42.226905Z",
     "shell.execute_reply": "2025-01-24T15:53:42.225974Z",
     "shell.execute_reply.started": "2025-01-24T15:53:42.208778Z"
    },
    "trusted": true
   },
   "outputs": [],
   "source": [
    "def find_peaks(frequencies, signal_fourier, peak_low = 15, peak_high = 500, stds = 5, plot = True):\n",
    "    peak_freq = frequencies[torch.argmax(signal_fourier[:,peak_low:peak_high], dim=1) + peak_low]\n",
    "\n",
    "    peak_height = torch.max(signal_fourier[:,peak_low:peak_high], dim=1).values\n",
    "    peak_mean = torch.mean(signal_fourier, dim=1)\n",
    "    peak_std = torch.std(signal_fourier, dim=1)\n",
    "    peak_range_high = peak_mean + stds * peak_std\n",
    "    peak_range_low = peak_mean - stds * peak_std\n",
    "\n",
    "    peak_height = torch.where(peak_height>peak_range_high, peak_height, -1)\n",
    "    peak_freq = torch.where(peak_height>peak_range_high, peak_freq, 0)\n",
    "\n",
    "    if not plot:\n",
    "        return peak_freq\n",
    "    \n",
    "    return peak_freq, peak_height, peak_mean, peak_range_low, peak_range_high\n"
   ]
  },
  {
   "cell_type": "code",
   "execution_count": 14,
   "metadata": {
    "execution": {
     "iopub.execute_input": "2025-01-24T15:55:55.222978Z",
     "iopub.status.busy": "2025-01-24T15:55:55.222605Z",
     "iopub.status.idle": "2025-01-24T15:55:55.628379Z",
     "shell.execute_reply": "2025-01-24T15:55:55.627333Z",
     "shell.execute_reply.started": "2025-01-24T15:55:55.222945Z"
    },
    "trusted": true
   },
   "outputs": [
    {
     "data": {
      "image/png": "[encoded data removed]",
      "text/plain": [
       "<Figure size 640x480 with 1 Axes>"
      ]
     },
     "metadata": {},
     "output_type": "display_data"
    }
   ],
   "source": [
    "def predict_speed(f, lam=1550, n_gas=1.00027326, n_liq=1.333, in_bubble=True):\n",
    "    '''\n",
    "    f: detected peak frequency in Hz\n",
    "    lam: wavelength of laser in nm (laser used by system that the software is designed for is 1550 nm)\n",
    "    n: refractive index of medium (water: n = 1.333, air: n = 1.00027326)\n",
    "    '''\n",
    "    if in_bubble:\n",
    "        n = n_gas\n",
    "\n",
    "    v = ( f* 1e3) * (lam *1e-9) / (2 * n)\n",
    "\n",
    "    return v\n",
    "\n",
    "frequencies, signal_fourier = transform_signal(X, fs)\n",
    "peak_freq = find_peaks(frequencies, signal_fourier, stds=8, plot=False)\n",
    "v = predict_speed(peak_freq)\n",
    "\n",
    "plt.scatter(y, v)\n",
    "plt.xlabel('bubble speed')\n",
    "plt.ylabel('predicted bubble speed')\n",
    "plt.grid()\n",
    "plt.show()"
   ]
  },
  {
   "cell_type": "code",
   "execution_count": 15,
   "metadata": {
    "execution": {
     "iopub.execute_input": "2025-01-24T15:55:58.046463Z",
     "iopub.status.busy": "2025-01-24T15:55:58.046090Z",
     "iopub.status.idle": "2025-01-24T15:55:58.069182Z",
     "shell.execute_reply": "2025-01-24T15:55:58.068322Z",
     "shell.execute_reply.started": "2025-01-24T15:55:58.046435Z"
    },
    "trusted": true
   },
   "outputs": [
    {
     "name": "stdout",
     "output_type": "stream",
     "text": [
      "tensor([0.6860, 0.5448, 0.7425, 0.1009, 0.9322, 0.3511, 0.6981, 0.3148, 0.0000,\n",
      "        0.8676])\n"
     ]
    }
   ],
   "source": [
    "v_1 = predict_speed(peak_freq[0:10])\n",
    "print(v_1)"
   ]
  },
  {
   "cell_type": "code",
   "execution_count": 3,
   "metadata": {
    "execution": {
     "iopub.execute_input": "2025-01-24T16:06:14.092140Z",
     "iopub.status.busy": "2025-01-24T16:06:14.091757Z",
     "iopub.status.idle": "2025-01-24T16:06:16.727841Z",
     "shell.execute_reply": "2025-01-24T16:06:16.726750Z",
     "shell.execute_reply.started": "2025-01-24T16:06:14.092108Z"
    },
    "trusted": true
   },
   "outputs": [
    {
     "ename": "NameError",
     "evalue": "name 't' is not defined",
     "output_type": "error",
     "traceback": [
      "\u001b[1;31m---------------------------------------------------------------------------\u001b[0m",
      "\u001b[1;31mNameError\u001b[0m                                 Traceback (most recent call last)",
      "Cell \u001b[1;32mIn[3], line 62\u001b[0m\n\u001b[0;32m     59\u001b[0m     plt\u001b[38;5;241m.\u001b[39mtight_layout()\n\u001b[0;32m     60\u001b[0m     plt\u001b[38;5;241m.\u001b[39mshow()\n\u001b[1;32m---> 62\u001b[0m plot_domains(\u001b[43mt\u001b[49m,X, bubble_idx\u001b[38;5;241m=\u001b[39midx, start\u001b[38;5;241m=\u001b[39m\u001b[38;5;241m10\u001b[39m, num \u001b[38;5;241m=\u001b[39m\u001b[38;5;241m3\u001b[39m, plot_signal_lowpass \u001b[38;5;241m=\u001b[39m \u001b[38;5;28;01mFalse\u001b[39;00m, stds \u001b[38;5;241m=\u001b[39m \u001b[38;5;241m2\u001b[39m, peak_high \u001b[38;5;241m=\u001b[39m \u001b[38;5;241m700\u001b[39m)\n",
      "\u001b[1;31mNameError\u001b[0m: name 't' is not defined"
     ]
    }
   ],
   "source": [
    "def plot_domains(t, signal, bubble_idx=None, plot_peak = True, plot_signal_lowpass = False, start=0, num=1, peak_low = 15, peak_high = 500, stds = 5):\n",
    "    \n",
    "    frequencies, signal_fourier = transform_signal(signal, fs)\n",
    "    signal_lowpass = lowpass_filter(X, fs, 500)\n",
    "    \n",
    "    # Find the peak frequency and height\n",
    "    #peak_freq = frequencies[torch.argmax(signal_fourier[:,peak_low:peak_high], dim=1) + peak_low]\n",
    "\n",
    "    #peak_height = torch.max(signal_fourier[:,peak_low:peak_high], dim=1).values\n",
    "    #peak_mean = torch.mean(signal_fourier, dim=1)\n",
    "    #peak_std = torch.std(signal_fourier, dim=1)\n",
    "    #peak_range_high = peak_mean + stds * peak_std\n",
    "    #peak_range_low = peak_mean - stds * peak_std\n",
    "\n",
    "    peak_freq, peak_height, peak_mean, peak_range_low, peak_range_high = find_peaks(frequencies, signal_fourier, peak_low=peak_low, peak_high=peak_high, stds=stds)\n",
    "    \n",
    "    # Plot the results\n",
    "    plt.figure(figsize=(30, 5*num))\n",
    "    for i in range(num):\n",
    "        i_signal = start + i\n",
    "        \n",
    "        # Time-domain signal\n",
    "        plt.subplot(num, 2, 1+2*i)\n",
    "        plt.plot(t, signal[i_signal], linewidth=.25, color='k')\n",
    "        if plot_signal_lowpass:\n",
    "            plt.plot(t, signal_lowpass[i_signal], linewidth=.5, color='r', alpha=0.5)\n",
    "        if bubble_idx is not None:\n",
    "            plt.title(f\"Time-Domain Signal of bubble: {bubble_idx[i_signal]}\")\n",
    "        else:\n",
    "            plt.title(\"Time-Domain Signal\")\n",
    "        plt.xlabel(\"Time (ms)\")\n",
    "        plt.ylabel(\"Amplitude\")\n",
    "        plt.grid()\n",
    "\n",
    "        # Frequency-domain signal\n",
    "        plt.subplot(num, 2, 2+2*i)\n",
    "        plt.plot(frequencies, signal_fourier[i_signal], linewidth=.5, color = 'k', label='Fourier transform of signal')\n",
    "        if plot_peak:\n",
    "            plt.axhline(peak_mean[i_signal], color = 'lightblue')\n",
    "            plt.fill_between(frequencies, peak_range_low[i_signal], peak_range_high[i_signal], color='lightblue', alpha=0.5, label=f'mean ± {stds} standard deviations')\n",
    "            plt.axvline(frequencies[peak_low], color='b', label=f'High pass for peak detection at: {round(float(frequencies[peak_low]), 2)} [kHz]')\n",
    "            plt.axvline(frequencies[peak_high], color='b', label=f'Low pass for peak detection at: {round(float(frequencies[peak_high]), 2)} [kHz]')\n",
    "            if peak_height[i_signal] == -1:\n",
    "                plt.subplot(num, 2, 2+2*i)\n",
    "                plt.text(1, peak_range_high[i_signal], f\"No significant Peak \\nWithin {stds} standard deviations\", fontsize=12, color='white', va='top', bbox=dict(facecolor='blue', edgecolor='black', boxstyle='round,pad=0.5', alpha=0.4))\n",
    "            else:\n",
    "                plt.scatter(peak_freq[i_signal], peak_height[i_signal], color='r', marker='x', label=f'peak at {round(float(peak_freq[i_signal]), 2)} [kHz]')\n",
    "            plt.legend(loc=1)\n",
    "\n",
    "        \n",
    "        if bubble_idx is not None:\n",
    "            plt.title(f\"Frequency-Domain Signal of bubble: {bubble_idx[i_signal]}\")\n",
    "        else:\n",
    "            plt.title(\"Frequency-Domain Signal\")\n",
    "        plt.xlabel(\"Frequency (kHz)\")\n",
    "        plt.ylabel(\"Magnitude\")\n",
    "        plt.grid()\n",
    "\n",
    "    plt.tight_layout()\n",
    "    plt.show()\n",
    "\n",
    "plot_domains(t,X, bubble_idx=idx, start=10, num =3, plot_signal_lowpass = False, stds = 2, peak_high = 700)"
   ]
  }
 ],
 "metadata": {
  "kaggle": {
   "accelerator": "none",
   "dataSources": [
    {
     "datasetId": 6526942,
     "sourceId": 10548926,
     "sourceType": "datasetVersion"
    },
    {
     "datasetId": 6527225,
     "sourceId": 10549376,
     "sourceType": "datasetVersion"
    },
    {
     "datasetId": 6528018,
     "sourceId": 10550653,
     "sourceType": "datasetVersion"
    },
    {
     "datasetId": 6529223,
     "sourceId": 10552638,
     "sourceType": "datasetVersion"
    },
    {
     "datasetId": 6540846,
     "sourceId": 10570333,
     "sourceType": "datasetVersion"
    }
   ],
   "dockerImageVersionId": 30839,
   "isGpuEnabled": false,
   "isInternetEnabled": true,
   "language": "python",
   "sourceType": "notebook"
  },
  "kernelspec": {
   "display_name": "Python 3",
   "language": "python",
   "name": "python3"
  },
  "language_info": {
   "codemirror_mode": {
    "name": "ipython",
    "version": 3
   },
   "file_extension": ".py",
   "mimetype": "text/x-python",
   "name": "python",
   "nbconvert_exporter": "python",
   "pygments_lexer": "ipython3",
   "version": "3.10.11"
  }
 },
 "nbformat": 4,
 "nbformat_minor": 4
}
