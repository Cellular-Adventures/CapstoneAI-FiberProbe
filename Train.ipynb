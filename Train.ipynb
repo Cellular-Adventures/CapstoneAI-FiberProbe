{
 "cells": [
  {
   "cell_type": "code",
   "execution_count": 26,
   "id": "9d5a22b9-820b-49b6-b84a-2e294d3204e4",
   "metadata": {},
   "outputs": [],
   "source": [
    "import sys\n",
    "import os\n",
    "\n",
    "# Voeg het pad toe aan sys.path\n",
    "module_path = os.path.abspath(r'H:\\My Documents\\CapstoneAI-FiberProbe-main')  # of een specifiek pad zoals: '/mnt/data'\n",
    "if module_path not in sys.path:\n",
    "    sys.path.append(module_path)"
   ]
  },
  {
   "cell_type": "code",
   "execution_count": 27,
   "id": "36de2bee-c984-4bf6-833e-8e51e751f150",
   "metadata": {},
   "outputs": [
    {
     "name": "stdout",
     "output_type": "stream",
     "text": [
      "Using device: cuda\n"
     ]
    }
   ],
   "source": [
    "### Start user input ###\n",
    "path_to_data = r'H:\\My Documents\\Capstone data 2' \n",
    "path_to_output = r'H:\\My Documents\\Capstone results'\n",
    "### End user input ###\n",
    "\n",
    "# Libary imports\n",
    "import pandas as pd\n",
    "import torch\n",
    "import numpy as np\n",
    "import time\n",
    "from sklearn.metrics import mean_squared_error, mean_absolute_error, r2_score\n",
    "import matplotlib.pyplot as plt\n",
    "\n",
    "# Function imports\n",
    "from advanced_dataloading import process_folder\n",
    "from advanced_preprocessing import frame_waves, valid_velo_data, save_second_scaler, random_noise, duplicate_and_augment_data, flatten_data_distribution, bin_data, calculate_duplication_factors\n",
    "from models import load_scalers, load_models, LSTMModel, GRUModel\n",
    "device = torch.device('cuda' if torch.cuda.is_available() else 'cpu')\n",
    "print(f'Using device: {device}')"
   ]
  },
  {
   "cell_type": "code",
   "execution_count": 28,
   "id": "4fc456ef-a2ed-4339-bc8f-c10903c7db83",
   "metadata": {},
   "outputs": [
    {
     "name": "stdout",
     "output_type": "stream",
     "text": [
      "Binlog data extracted\n",
      "Processing run: 2024-11-08T120530\n",
      "{'channelCoef1': 0.0, 'channelCoef2': 6.103701895199438e-05, 'acquisitionFrequency': 8928571.42857143, 'flowRate': 180, 'bin_file': '2024-11-08T120530.bin'}\n",
      "358482000 datapoints extracted\n",
      "LABELS: 418 bubble labels with VeloOut != -1 extracted.\n",
      "Saved bubbles to H:\\My Documents\\Capstone results\\180_2024-11-08T120530_bubbles.csv\n",
      "No missing labels.\n",
      "EXTRACTED: 418 bubbles have VeloOut != -1 out of 2261 total bubbles.\n",
      "            bubble_idx E_idx L_idx   VeloOut  \\\n",
      "0  0_2024-11-08T120530    E0    -1 -1.000000   \n",
      "1  1_2024-11-08T120530    E1    L0  0.873666   \n",
      "2  2_2024-11-08T120530    E2    -1 -1.000000   \n",
      "3  3_2024-11-08T120530    E3    -1 -1.000000   \n",
      "4  4_2024-11-08T120530    E4    -1 -1.000000   \n",
      "\n",
      "                                          VoltageOut  FlowRate     Frequency  \n",
      "0  [0.5647144913673401, 0.5805230736732483, 0.572...       180  8.928571e+06  \n",
      "1  [0.5678884387016296, 0.5362102389335632, 0.563...       180  8.928571e+06  \n",
      "2  [0.5910825133323669, 0.5858333110809326, 0.593...       180  8.928571e+06  \n",
      "3  [0.5615406036376953, 0.5488448739051819, 0.561...       180  8.928571e+06  \n",
      "4  [0.5868709087371826, 0.5890072584152222, 0.606...       180  8.928571e+06  \n",
      "Binlog data extracted\n",
      "Processing run: 2024-11-08T144027\n",
      "{'channelCoef1': 0.0, 'channelCoef2': 6.103701895199438e-05, 'acquisitionFrequency': 20833333.333333332, 'flowRate': 20, 'bin_file': '2024-11-08T144027.bin'}\n",
      "836458000 datapoints extracted\n",
      "LABELS: 545 bubble labels with VeloOut != -1 extracted.\n",
      "Saved bubbles to H:\\My Documents\\Capstone results\\20_2024-11-08T144027_bubbles.csv\n",
      "No missing labels.\n",
      "EXTRACTED: 545 bubbles have VeloOut != -1 out of 1407 total bubbles.\n",
      "            bubble_idx E_idx L_idx   VeloOut  \\\n",
      "0  0_2024-11-08T144027    E0    -1 -1.000000   \n",
      "1  1_2024-11-08T144027    E1    -1 -1.000000   \n",
      "2  2_2024-11-08T144027    E2    L0  0.806245   \n",
      "3  3_2024-11-08T144027    E3    L1  0.597371   \n",
      "4  4_2024-11-08T144027    E4    L2  0.644683   \n",
      "\n",
      "                                          VoltageOut  FlowRate     Frequency  \n",
      "0  [0.5352336168289185, 0.5510421991348267, 0.559...        20  2.083333e+07  \n",
      "1  [0.5731986165046692, 0.5584276914596558, 0.571...        20  2.083333e+07  \n",
      "2  [0.5647755265235901, 0.5594652891159058, 0.573...        20  2.083333e+07  \n",
      "3  [0.5637379288673401, 0.5689870715141296, 0.571...        20  2.083333e+07  \n",
      "4  [0.5668507814407349, 0.5647755265235901, 0.562...        20  2.083333e+07  \n",
      "Binlog data extracted\n",
      "Processing run: 2024-11-08T144742\n",
      "{'channelCoef1': 0.0, 'channelCoef2': 6.103701895199438e-05, 'acquisitionFrequency': 20833333.333333332, 'flowRate': 30, 'bin_file': '2024-11-08T144742.bin'}\n",
      "836458000 datapoints extracted\n",
      "LABELS: 555 bubble labels with VeloOut != -1 extracted.\n",
      "Saved bubbles to H:\\My Documents\\Capstone results\\30_2024-11-08T144742_bubbles.csv\n",
      "No missing labels.\n",
      "EXTRACTED: 555 bubbles have VeloOut != -1 out of 1543 total bubbles.\n",
      "            bubble_idx E_idx L_idx   VeloOut  \\\n",
      "0  0_2024-11-08T144742    E0    L0  0.582148   \n",
      "1  1_2024-11-08T144742    E1    -1 -1.000000   \n",
      "2  2_2024-11-08T144742    E2    -1 -1.000000   \n",
      "3  3_2024-11-08T144742    E3    -1 -1.000000   \n",
      "4  4_2024-11-08T144742    E4    -1 -1.000000   \n",
      "\n",
      "                                          VoltageOut  FlowRate     Frequency  \n",
      "0  [0.5785088539123535, 0.5795465111732483, 0.584...        30  2.083333e+07  \n",
      "1  [0.5932798385620117, 0.5837580561637878, 0.580...        30  2.083333e+07  \n",
      "2  [0.5985289812088013, 0.574236273765564, 0.5753...        30  2.083333e+07  \n",
      "3  [0.6027405858039856, 0.5869319438934326, 0.605...        30  2.083333e+07  \n",
      "4  [0.6640217304229736, 0.6608477830886841, 0.671...        30  2.083333e+07  \n",
      "Binlog data extracted\n",
      "Processing run: 2024-11-08T150426\n",
      "{'channelCoef1': 0.0, 'channelCoef2': 6.103701895199438e-05, 'acquisitionFrequency': 20833333.333333332, 'flowRate': 60, 'bin_file': '2024-11-08T150426.bin'}\n",
      "836458000 datapoints extracted\n",
      "LABELS: 688 bubble labels with VeloOut != -1 extracted.\n",
      "Saved bubbles to H:\\My Documents\\Capstone results\\60_2024-11-08T150426_bubbles.csv\n",
      "No missing labels.\n",
      "EXTRACTED: 688 bubbles have VeloOut != -1 out of 2054 total bubbles.\n",
      "            bubble_idx E_idx L_idx  VeloOut  \\\n",
      "0  0_2024-11-08T150426    E0    -1     -1.0   \n",
      "1  1_2024-11-08T150426    E1    -1     -1.0   \n",
      "2  2_2024-11-08T150426    E2    -1     -1.0   \n",
      "3  3_2024-11-08T150426    E3    -1     -1.0   \n",
      "4  4_2024-11-08T150426    E4    -1     -1.0   \n",
      "\n",
      "                                          VoltageOut  FlowRate     Frequency  \n",
      "0  [0.6185491681098938, 0.6185491681098938, 0.622...        60  2.083333e+07  \n",
      "1  [0.5984679460525513, 0.5974303483963013, 0.601...        60  2.083333e+07  \n",
      "2  [0.5890072584152222, 0.574175238609314, 0.5826...        60  2.083333e+07  \n",
      "3  [0.5784478187561035, 0.5858333110809326, 0.595...        60  2.083333e+07  \n",
      "4  [0.5942564010620117, 0.6048158407211304, 0.580...        60  2.083333e+07  \n",
      "Added H:\\My Documents\\Capstone results\\180_2024-11-08T120530_bubbles.csv to H:\\My Documents\\Capstone results\\All_bubbles.zip as 180_2024-11-08T120530_bubbles.csv\n",
      "Added H:\\My Documents\\Capstone results\\20_2024-11-08T144027_bubbles.csv to H:\\My Documents\\Capstone results\\All_bubbles.zip as 20_2024-11-08T144027_bubbles.csv\n",
      "Added H:\\My Documents\\Capstone results\\240_2024-11-08T161448_bubbles.csv to H:\\My Documents\\Capstone results\\All_bubbles.zip as 240_2024-11-08T161448_bubbles.csv\n",
      "Added H:\\My Documents\\Capstone results\\30_2024-11-08T144742_bubbles.csv to H:\\My Documents\\Capstone results\\All_bubbles.zip as 30_2024-11-08T144742_bubbles.csv\n",
      "Added H:\\My Documents\\Capstone results\\60_2024-11-08T150426_bubbles.csv to H:\\My Documents\\Capstone results\\All_bubbles.zip as 60_2024-11-08T150426_bubbles.csv\n",
      "Added H:\\My Documents\\Capstone results\\60_2024-11-12T145426_bubbles.csv to H:\\My Documents\\Capstone results\\All_bubbles.zip as 60_2024-11-12T145426_bubbles.csv\n",
      "Added H:\\My Documents\\Capstone results\\velocity_predictions.csv to H:\\My Documents\\Capstone results\\All_bubbles.zip as velocity_predictions.csv\n",
      "All CSV files in H:\\My Documents\\Capstone results and its subfolders zipped as H:\\My Documents\\Capstone results\\All_bubbles.zip\n"
     ]
    }
   ],
   "source": [
    "df = process_folder(path_to_data, path_to_output, plot=False, labels=True)"
   ]
  },
  {
   "cell_type": "code",
   "execution_count": 29,
   "id": "8df05d19-7e11-4bc8-8cb8-8c01d493b6dc",
   "metadata": {
    "scrolled": true
   },
   "outputs": [],
   "source": [
    "feature_scaler, target_scaler, X_train_scaled, y_train_scaled, X_val_scaled, y_val_scaled, X_test_scaled, y_test_scaled = save_second_scaler(df)"
   ]
  },
  {
   "cell_type": "code",
   "execution_count": 30,
   "id": "a5693923-aacd-4544-a9a5-4963934c7bdb",
   "metadata": {},
   "outputs": [],
   "source": [
    "chance = 0.3\n",
    "bins = 20\n",
    "X_train_scaled, y_train_scaled = random_noise(X_train_scaled, y_train_scaled, chance, random_seed = 0)\n",
    "hist, bin_indices = bin_data(y_train_scaled, bins)\n",
    "factors = calculate_duplication_factors(hist)\n",
    "X_train_scaled, y_train_scaled = duplicate_and_augment_data(X_train_scaled, y_train_scaled, bin_indices, factors, noise=0.005)\n",
    "X_train_scaled, y_train_scaled = flatten_data_distribution(X_train_scaled, y_train_scaled, bins, scaling_factor=0.5, noise=0.005)"
   ]
  },
  {
   "cell_type": "code",
   "execution_count": 31,
   "id": "28d1c5e9-5aa0-4478-9a17-6ea92dadabb1",
   "metadata": {},
   "outputs": [
    {
     "data": {
      "text/plain": [
       "(4090, 4000)"
      ]
     },
     "execution_count": 31,
     "metadata": {},
     "output_type": "execute_result"
    }
   ],
   "source": [
    "X_train_scaled.shape"
   ]
  },
  {
   "cell_type": "code",
   "execution_count": 32,
   "id": "f8ff82a0-959b-4c5d-b996-22df65a1649a",
   "metadata": {},
   "outputs": [],
   "source": [
    "X_train_tensor = torch.tensor(X_train_scaled[..., np.newaxis], dtype=torch.float32)\n",
    "y_train_tensor = torch.tensor(y_train_scaled, dtype=torch.float32).unsqueeze(1)\n",
    "X_val_tensor = torch.tensor(X_val_scaled[..., np.newaxis], dtype=torch.float32)\n",
    "y_val_tensor = torch.tensor(y_val_scaled, dtype=torch.float32).unsqueeze(1)\n",
    "X_test_tensor = torch.tensor(X_test_scaled[..., np.newaxis], dtype=torch.float32)\n",
    "y_test_tensor = torch.tensor(y_test_scaled, dtype=torch.float32).unsqueeze(1)\n",
    "X_train_tensor = X_train_tensor.to(device)\n",
    "y_train_tensor = y_train_tensor.to(device)\n",
    "X_val_tensor = X_val_tensor.to(device)\n",
    "y_val_tensor = y_val_tensor.to(device)\n",
    "X_test_tensor = X_test_tensor.to(device)\n",
    "y_test_tensor = y_test_tensor.to(device)"
   ]
  },
  {
   "cell_type": "code",
   "execution_count": 39,
   "id": "f98bf53b-a739-4023-85bd-2177d61f3d55",
   "metadata": {},
   "outputs": [
    {
     "name": "stdout",
     "output_type": "stream",
     "text": [
      "Epoch 1/2000 - Train Loss: 9.3450 - Val Loss: 0.8983\n",
      "Epoch 100/2000 - Train Loss: 4.4620 - Val Loss: 5.2557\n",
      "Early stopping triggered at epoch 101\n"
     ]
    },
    {
     "data": {
      "image/png": "[encoded data removed]",
      "text/plain": [
       "<Figure size 640x480 with 1 Axes>"
      ]
     },
     "metadata": {},
     "output_type": "display_data"
    }
   ],
   "source": [
    "# Model setup\n",
    "gru1_model = GRUModel(input_size=1, hidden_size=20, num_layers=2)\n",
    "gru1_model.to(device)\n",
    "\n",
    "criterion = torch.nn.MSELoss()\n",
    "optimizer = torch.optim.Adam(gru1_model.parameters(), lr=0.0008)\n",
    "\n",
    "# Early stopping parameters\n",
    "patience = 100\n",
    "best_val_loss = float('inf')\n",
    "epochs_no_improve = 0\n",
    "best_model_state = None\n",
    "\n",
    "# Training loop\n",
    "epochs = 2000\n",
    "train_losses, val_losses = [], []\n",
    "\n",
    "for epoch in range(epochs):\n",
    "    gru1_model.train()\n",
    "    optimizer.zero_grad()\n",
    "    y_pred_train = gru1_model(X_train_tensor)\n",
    "    loss = criterion(y_pred_train, y_train_tensor)\n",
    "    loss.backward()\n",
    "    optimizer.step()\n",
    "\n",
    "    gru1_model.eval()\n",
    "    with torch.no_grad():\n",
    "        y_pred_val = gru1_model(X_val_tensor)\n",
    "        val_loss = criterion(y_pred_val, y_val_tensor)\n",
    "\n",
    "    train_losses.append(loss.item())\n",
    "    val_losses.append(val_loss.item())\n",
    "\n",
    "    # Early stopping logic\n",
    "    if val_loss.item() < best_val_loss:\n",
    "        best_val_loss = val_loss.item()\n",
    "        best_model_state = gru1_model.state_dict()\n",
    "        epochs_no_improve = 0\n",
    "    else:\n",
    "        epochs_no_improve += 1\n",
    "        if epochs_no_improve >= patience:\n",
    "            print(f\"Early stopping triggered at epoch {epoch+1}\")\n",
    "            break\n",
    "\n",
    "    if (epoch+1) % 100 == 0 or epoch == 0:\n",
    "        print(f\"Epoch {epoch+1}/{epochs} - Train Loss: {loss.item():.4f} - Val Loss: {val_loss.item():.4f}\")\n",
    "\n",
    "# Restore best model\n",
    "if best_model_state is not None:\n",
    "    gru1_model.load_state_dict(best_model_state)\n",
    "\n",
    "# Plot loss curves\n",
    "plt.plot(train_losses, label='Train Loss')\n",
    "plt.plot(val_losses, label='Val Loss')\n",
    "plt.xlabel(\"Epoch\")\n",
    "plt.ylabel(\"MSE Loss\")\n",
    "plt.title(\"Training Curve with Early Stopping\")\n",
    "plt.legend()\n",
    "plt.grid(True)\n",
    "plt.show()"
   ]
  },
  {
   "cell_type": "code",
   "execution_count": 40,
   "id": "47194d5f-bbeb-461f-b3a9-46d28baa0469",
   "metadata": {},
   "outputs": [
    {
     "name": "stdout",
     "output_type": "stream",
     "text": [
      "RMSE: 0.447 cm/s\n",
      "MAE: 0.625 cm/s\n",
      "R² Score: -4.974\n"
     ]
    }
   ],
   "source": [
    "# Predict on validation set\n",
    "gru1_model.eval()\n",
    "with torch.no_grad():\n",
    "    y_pred_scaled = gru1_model(X_val_tensor).detach().cpu().numpy().flatten()\n",
    "\n",
    "# Inverse-transform\n",
    "y_pred_gru1 = target_scaler.inverse_transform(y_pred_scaled.reshape(-1, 1)).flatten()\n",
    "y_true = target_scaler.inverse_transform(y_val_tensor.cpu().numpy().reshape(-1, 1)).flatten()\n",
    "\n",
    "# Metrics\n",
    "rmse = mean_squared_error(y_true, y_pred_gru1)\n",
    "mae = mean_absolute_error(y_true, y_pred_gru1)\n",
    "r2 = r2_score(y_true, y_pred_gru1)\n",
    "\n",
    "print(f\"RMSE: {rmse:.3f} cm/s\")\n",
    "print(f\"MAE: {mae:.3f} cm/s\")\n",
    "print(f\"R² Score: {r2:.3f}\")"
   ]
  },
  {
   "cell_type": "code",
   "execution_count": 41,
   "id": "f6f99a3c-d116-44b2-b0ce-ecffdaf0645e",
   "metadata": {},
   "outputs": [
    {
     "data": {
      "image/png": "[encoded data removed]",
      "text/plain": [
       "<Figure size 640x480 with 1 Axes>"
      ]
     },
     "metadata": {},
     "output_type": "display_data"
    }
   ],
   "source": [
    "plt.figure()\n",
    "plt.scatter(y_pred_gru1,y_true)\n",
    "plt.xlabel('y_pred')\n",
    "plt.ylabel('y_true')\n",
    "plt.show()"
   ]
  },
  {
   "cell_type": "code",
   "execution_count": null,
   "id": "bd83588c-14fc-410b-a51c-370830cf658c",
   "metadata": {},
   "outputs": [
    {
     "name": "stdout",
     "output_type": "stream",
     "text": [
      "Epoch 1/2000 - Train Loss: 10.7564 - Val Loss: 0.8984\n",
      "Epoch 50/2000 - Train Loss: 6.1437 - Val Loss: 2.0431\n"
     ]
    }
   ],
   "source": [
    "gru2_model = GRUModel(input_size=1, hidden_size=20, num_layers=2)\n",
    "gru2_model.to(device)\n",
    "\n",
    "# Optimizer and loss\n",
    "optimizer = torch.optim.Adam(gru2_model.parameters(), lr=0.0008)\n",
    "criterion = torch.nn.MSELoss()\n",
    "\n",
    "# Early stopping setup\n",
    "patience = 100\n",
    "best_val_loss = float('inf')\n",
    "epochs_no_improve = 0\n",
    "best_model_state = None\n",
    "\n",
    "# Training\n",
    "epochs = 2000\n",
    "train_losses, val_losses = [], []\n",
    "\n",
    "for epoch in range(epochs):\n",
    "    gru2_model.train()\n",
    "    optimizer.zero_grad()\n",
    "    pred_train = gru2_model(X_train_tensor)\n",
    "    loss = criterion(pred_train, y_train_tensor)\n",
    "    loss.backward()\n",
    "    optimizer.step()\n",
    "\n",
    "    gru2_model.eval()\n",
    "    with torch.no_grad():\n",
    "        pred_val = gru2_model(X_val_tensor)\n",
    "        val_loss = criterion(pred_val, y_val_tensor)\n",
    "\n",
    "    train_losses.append(loss.item())\n",
    "    val_losses.append(val_loss.item())\n",
    "\n",
    "    # Early stopping logic\n",
    "    if val_loss.item() < best_val_loss:\n",
    "        best_val_loss = val_loss.item()\n",
    "        best_model_state = gru2_model.state_dict()\n",
    "        epochs_no_improve = 0\n",
    "    else:\n",
    "        epochs_no_improve += 1\n",
    "        if epochs_no_improve >= patience:\n",
    "            print(f\"Early stopping triggered at epoch {epoch+1}\")\n",
    "            break\n",
    "\n",
    "    if (epoch+1) % 50 == 0 or epoch == 0:\n",
    "        print(f\"Epoch {epoch+1}/{epochs} - Train Loss: {loss.item():.4f} - Val Loss: {val_loss.item():.4f}\")\n",
    "\n",
    "# Restore best model weights\n",
    "if best_model_state is not None:\n",
    "    gru2_model.load_state_dict(best_model_state)\n",
    "\n",
    "# Plot\n",
    "plt.plot(train_losses, label='Train Loss')\n",
    "plt.plot(val_losses, label='Val Loss')\n",
    "plt.title(\"GRU 2 Training Curve (with Early Stopping)\")\n",
    "plt.xlabel(\"Epoch\")\n",
    "plt.ylabel(\"MSE Loss\")\n",
    "plt.grid(True)\n",
    "plt.legend()\n",
    "plt.show()"
   ]
  },
  {
   "cell_type": "code",
   "execution_count": null,
   "id": "86caa8a8-30f2-42e8-83ac-b87f14ebdd6b",
   "metadata": {},
   "outputs": [],
   "source": [
    "# Predict on validation set\n",
    "gru2_model.eval()\n",
    "with torch.no_grad():\n",
    "    y_pred_scaled = gru2_model(X_val_tensor).detach().cpu().numpy().flatten()\n",
    "\n",
    "# Inverse-transform\n",
    "y_pred_gru2 = target_scaler.inverse_transform(y_pred_scaled.reshape(-1, 1)).flatten()\n",
    "y_true = target_scaler.inverse_transform(y_val_tensor.cpu().numpy().reshape(-1, 1)).flatten()\n",
    "\n",
    "# Metrics\n",
    "rmse = mean_squared_error(y_true, y_pred_gru2)\n",
    "mae = mean_absolute_error(y_true, y_pred_gru2)\n",
    "r2 = r2_score(y_true, y_pred_gru2)\n",
    "\n",
    "print(f\"RMSE: {rmse:.3f} cm/s\")\n",
    "print(f\"MAE: {mae:.3f} cm/s\")\n",
    "print(f\"R² Score: {r2:.3f}\")"
   ]
  },
  {
   "cell_type": "code",
   "execution_count": null,
   "id": "4a795ace-081d-4be1-9fca-284bcca5f51b",
   "metadata": {},
   "outputs": [],
   "source": [
    "plt.figure()\n",
    "plt.scatter(y_pred_gru2,y_true)\n",
    "plt.show()"
   ]
  },
  {
   "cell_type": "code",
   "execution_count": null,
   "id": "c9d56cf1-2614-4bf4-9774-8a9698ee49b7",
   "metadata": {},
   "outputs": [],
   "source": [
    "lstm_model = LSTMModel(input_size=1, hidden_size=25, num_layers=2)\n",
    "lstm_model.to(device)\n",
    "\n",
    "# Loss and optimizer\n",
    "criterion = torch.nn.MSELoss()\n",
    "optimizer = torch.optim.Adam(lstm_model.parameters(), lr=0.0005)\n",
    "\n",
    "# Early stopping setup\n",
    "patience = 100\n",
    "best_val_loss = float('inf')\n",
    "epochs_no_improve = 0\n",
    "best_model_state = None\n",
    "\n",
    "# Training loop\n",
    "epochs = 2000\n",
    "train_losses, val_losses = [], []\n",
    "\n",
    "for epoch in range(epochs):\n",
    "    lstm_model.train()\n",
    "    optimizer.zero_grad()\n",
    "    y_pred_train = lstm_model(X_train_tensor)\n",
    "    loss = criterion(y_pred_train, y_train_tensor)\n",
    "    loss.backward()\n",
    "    optimizer.step()\n",
    "\n",
    "    lstm_model.eval()\n",
    "    with torch.no_grad():\n",
    "        y_pred_val = lstm_model(X_val_tensor)\n",
    "        val_loss = criterion(y_pred_val, y_val_tensor)\n",
    "\n",
    "    train_losses.append(loss.item())\n",
    "    val_losses.append(val_loss.item())\n",
    "\n",
    "    # Early stopping logic\n",
    "    if val_loss.item() < best_val_loss:\n",
    "        best_val_loss = val_loss.item()\n",
    "        best_model_state = lstm_model.state_dict()\n",
    "        epochs_no_improve = 0\n",
    "    else:\n",
    "        epochs_no_improve += 1\n",
    "        if epochs_no_improve >= patience:\n",
    "            print(f\"Early stopping triggered at epoch {epoch+1}\")\n",
    "            break\n",
    "\n",
    "    if (epoch+1) % 100 == 0 or epoch == 0:\n",
    "        print(f\"Epoch {epoch+1}/{epochs} - Train Loss: {loss.item():.4f} - Val Loss: {val_loss.item():.4f}\")\n",
    "\n",
    "# Restore best model weights\n",
    "if best_model_state is not None:\n",
    "    lstm_model.load_state_dict(best_model_state)\n",
    "\n",
    "# Plot loss curves\n",
    "plt.plot(train_losses, label='Train Loss')\n",
    "plt.plot(val_losses, label='Val Loss')\n",
    "plt.title(\"LSTM Training Curve (with Early Stopping)\")\n",
    "plt.xlabel(\"Epoch\")\n",
    "plt.ylabel(\"MSE Loss\")\n",
    "plt.grid(True)\n",
    "plt.legend()\n",
    "plt.show()\n"
   ]
  },
  {
   "cell_type": "code",
   "execution_count": null,
   "id": "1761e1f3-9298-481a-959d-ada85c043707",
   "metadata": {},
   "outputs": [],
   "source": [
    "# Predict on validation set\n",
    "lstm_model.eval()\n",
    "with torch.no_grad():\n",
    "    y_pred_scaled = lstm_model(X_val_tensor).detach().cpu().numpy().flatten()\n",
    "\n",
    "# Inverse-transform\n",
    "y_pred_lstm = target_scaler.inverse_transform(y_pred_scaled.reshape(-1, 1)).flatten()\n",
    "y_true = target_scaler.inverse_transform(y_val_tensor.cpu().numpy().reshape(-1, 1)).flatten()\n",
    "\n",
    "# Metrics\n",
    "rmse = mean_squared_error(y_true, y_pred_lstm)\n",
    "mae = mean_absolute_error(y_true, y_pred_lstm)\n",
    "r2 = r2_score(y_true, y_pred_lstm)\n",
    "\n",
    "print(f\"RMSE: {rmse:.3f} cm/s\")\n",
    "print(f\"MAE: {mae:.3f} cm/s\")\n",
    "print(f\"R² Score: {r2:.3f}\")"
   ]
  },
  {
   "cell_type": "code",
   "execution_count": null,
   "id": "bcfcd6f0-e5dc-4447-97aa-e70ccb835697",
   "metadata": {},
   "outputs": [],
   "source": [
    "plt.figure()\n",
    "plt.scatter(y_pred_lstm,y_true)\n",
    "plt.show()"
   ]
  },
  {
   "cell_type": "code",
   "execution_count": null,
   "id": "d11d99f7-c0ef-4597-9ef0-5110abdd8a48",
   "metadata": {},
   "outputs": [],
   "source": [
    "with torch.no_grad():  \n",
    "    y_gru1_scaled = gru1_model(X_test_tensor)\n",
    "    y_gru2_scaled = gru2_model(X_test_tensor)\n",
    "    y_lstm_scaled = lstm_model(X_test_tensor)\n",
    "    \n",
    "y_gru1 = target_scaler.inverse_transform(y_gru1_scaled.detach().cpu().numpy().reshape(-1, 1)).flatten()\n",
    "y_gru2 = target_scaler.inverse_transform(y_gru2_scaled.detach().cpu().numpy().reshape(-1, 1)).flatten()\n",
    "y_lstm = target_scaler.inverse_transform(y_lstm_scaled.detach().cpu().numpy().reshape(-1, 1)).flatten()\n",
    "\n",
    "y_pred = ((y_lstm+y_gru1+y_gru2)/3).flatten()\n",
    "outcome_df = pd.DataFrame({\"predictions model 1\": y_gru1, \"predictions model 2\": y_gru2, \"predictions model 3\": y_lstm, \"final prediction\": y_pred})\n",
    "outcome_df['Standard deviation'] = outcome_df[[\"predictions model 1\", \"predictions model 2\", \"predictions model 3\"]].std(axis=1)\n",
    "outcome_df['Standard deviation %'] = outcome_df['Standard deviation'] / outcome_df['final prediction'] * 100\n",
    " \n",
    "print(outcome_df.head(10))"
   ]
  },
  {
   "cell_type": "code",
   "execution_count": null,
   "id": "a25dd0f5-efd3-4e83-8297-9b24f5decc03",
   "metadata": {},
   "outputs": [],
   "source": [
    "# Evaluation metrics (remove '''...''' if interested)\n",
    "valid_bubbles_ai = len(outcome_df[outcome_df['Standard deviation %'] < 10])/len(outcome_df) * 100\n",
    "valid_bubbles_boring_software = len(valid_velo_data(df)[0])/len(df) * 100\n",
    "\n",
    "X_velo, y_velo = valid_velo_data(df)\n",
    "X_velo_scaled = torch.tensor(feature_scaler.transform(X_velo)[...,np.newaxis], dtype=torch.float32)\n",
    "X_velo_scaled = X_velo_scaled.to(device)\n",
    "with torch.no_grad():  \n",
    "        y_gru1_scaled_velo = gru1_model(X_velo_scaled)\n",
    "        y_gru2_scaled_velo = gru2_model(X_velo_scaled)\n",
    "        y_lstm_scaled_velo = lstm_model(X_velo_scaled)\n",
    "y_gru1_velo = target_scaler.inverse_transform(y_gru1_scaled_velo.detach().cpu().numpy().reshape(-1, 1)).flatten()\n",
    "y_gru2_velo = target_scaler.inverse_transform(y_gru2_scaled_velo.detach().cpu().numpy().reshape(-1, 1)).flatten()\n",
    "y_lstm_velo = target_scaler.inverse_transform(y_lstm_scaled_velo.detach().cpu().numpy().reshape(-1, 1)).flatten()\n",
    "y_pred_velo = ((y_lstm_velo+y_gru1_velo+y_gru2_velo)/3).flatten()\n",
    "outcome_df_valid = pd.DataFrame({\"predictions model 1\": y_gru1_velo, \"predictions model 2\": y_gru2_velo, \"predictions model 3\": y_lstm_velo, \"final prediction\": y_pred_velo})\n",
    "outcome_df_valid['Standard deviation'] = outcome_df_valid[[\"predictions model 1\", \"predictions model 2\", \"predictions model 3\"]].std(axis=1)\n",
    "outcome_df_valid['Standard deviation %'] = outcome_df_valid['Standard deviation'] / outcome_df_valid['final prediction'] * 100\n",
    "valid_test_results = outcome_df_valid[(outcome_df_valid[\"Standard deviation\"]/outcome_df_valid[\"final prediction\"]) <= 0.1]\n",
    "\n",
    "filtered_outcome_df = outcome_df[outcome_df['Standard deviation %'] < 10]\n",
    "average_percentage_std = filtered_outcome_df['Standard deviation %'].mean()\n",
    "\n",
    "print(f\"Percentage found valid bubbles (uncertainty < 10%) with speed difference <10% from truth:  {len(valid_test_results) / (len(outcome_df_valid)) * 100:.4f} %\")\n",
    "print(f'Percentage AI found valid bubbles (uncertainty < 10%): {valid_bubbles_ai:.4f} % vs M2 analyzer: {valid_bubbles_boring_software:.4f} %, improvement: {((valid_bubbles_ai - valid_bubbles_boring_software)/valid_bubbles_boring_software)*100:.4f} %')\n",
    "print(f'Model uncertainty (average uncertainty of valid bubbles): {average_percentage_std:.4f} % with {len(filtered_outcome_df) / len(outcome_df_valid) * 100} % of the labled samples')\n"
   ]
  },
  {
   "cell_type": "code",
   "execution_count": null,
   "id": "7b979869-c358-442b-a7bb-8c24fbc17ede",
   "metadata": {},
   "outputs": [],
   "source": []
  }
 ],
 "metadata": {
  "kernelspec": {
   "display_name": "Python (torch-gpu)",
   "language": "python",
   "name": "torch-gpu"
  },
  "language_info": {
   "codemirror_mode": {
    "name": "ipython",
    "version": 3
   },
   "file_extension": ".py",
   "mimetype": "text/x-python",
   "name": "python",
   "nbconvert_exporter": "python",
   "pygments_lexer": "ipython3",
   "version": "3.10.16"
  }
 },
 "nbformat": 4,
 "nbformat_minor": 5
}
